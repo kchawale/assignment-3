{
  "nbformat": 4,
  "nbformat_minor": 0,
  "metadata": {
    "colab": {
      "provenance": [],
      "authorship_tag": "ABX9TyMSKQpJNK+rCeOFvzoFBJrx",
      "include_colab_link": true
    },
    "kernelspec": {
      "name": "python3",
      "display_name": "Python 3"
    },
    "language_info": {
      "name": "python"
    }
  },
  "cells": [
    {
      "cell_type": "markdown",
      "metadata": {
        "id": "view-in-github",
        "colab_type": "text"
      },
      "source": [
        "<a href=\"https://colab.research.google.com/github/kchawale/assignment-3/blob/main/que_1_assignment_3.ipynb\" target=\"_parent\"><img src=\"https://colab.research.google.com/assets/colab-badge.svg\" alt=\"Open In Colab\"/></a>"
      ]
    },
    {
      "cell_type": "code",
      "execution_count": 1,
      "metadata": {
        "colab": {
          "base_uri": "https://localhost:8080/"
        },
        "id": "d3Hg6OoYxyX-",
        "outputId": "c9cc6ae0-2183-4d87-a6f2-0e46d4e41f17"
      },
      "outputs": [
        {
          "output_type": "stream",
          "name": "stdout",
          "text": [
            "20\n"
          ]
        }
      ],
      "source": [
        "#Write a Python function to sum all the numbers in a list.\n",
        "#Sample List : (8, 2, 3, 0, 7)\n",
        "#Expected Output : 20\n",
        "\n",
        "def sum(num):\n",
        "    total = 0\n",
        "    for x in num:\n",
        "        total += x\n",
        "    return total\n",
        "print(sum((8, 2, 3, 0, 7)))"
      ]
    }
  ]
}