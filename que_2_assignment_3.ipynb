{
  "nbformat": 4,
  "nbformat_minor": 0,
  "metadata": {
    "colab": {
      "provenance": [],
      "authorship_tag": "ABX9TyO/2ywfwsEX6X5NUbAtxTC4",
      "include_colab_link": true
    },
    "kernelspec": {
      "name": "python3",
      "display_name": "Python 3"
    },
    "language_info": {
      "name": "python"
    }
  },
  "cells": [
    {
      "cell_type": "markdown",
      "metadata": {
        "id": "view-in-github",
        "colab_type": "text"
      },
      "source": [
        "<a href=\"https://colab.research.google.com/github/kchawale/assignment-3/blob/main/que_2_assignment_3.ipynb\" target=\"_parent\"><img src=\"https://colab.research.google.com/assets/colab-badge.svg\" alt=\"Open In Colab\"/></a>"
      ]
    },
    {
      "cell_type": "code",
      "execution_count": 2,
      "metadata": {
        "colab": {
          "base_uri": "https://localhost:8080/"
        },
        "id": "RLBc7hSg0ALf",
        "outputId": "22f45a28-0a3b-40e3-f1bf-260907a20836"
      },
      "outputs": [
        {
          "output_type": "stream",
          "name": "stdout",
          "text": [
            "Original: 1234abcd\n",
            "Reverse: dcba4321\n"
          ]
        }
      ],
      "source": [
        "# string inside the function.. Write a Python program to reverse a string.\n",
        "#input= 1234abcd\n",
        "\n",
        "def reverse(string):\n",
        "  return string[::-1]\n",
        "\n",
        "str1 = '1234abcd'\n",
        "print(\"Original:\",str1)\n",
        "print(\"Reverse:\",reverse('1234abcd'))"
      ]
    },
    {
      "cell_type": "code",
      "source": [
        "# string inside the function.. Write a Python program to reverse a string.\n",
        "#input= 1234abcd\n",
        "\n",
        "def findRev(string):  \n",
        "   reverse = ''\n",
        "   for i in range(len(string), 0, -1):\n",
        "      reverse += string[i-1]\n",
        "   return reverse\n",
        "string = input('Enter the string: ')\n",
        "reverse = findRev(string)\n",
        "print('The reverse string is', reverse)"
      ],
      "metadata": {
        "colab": {
          "base_uri": "https://localhost:8080/"
        },
        "id": "JPBwv7H11Hz5",
        "outputId": "e153666b-94e3-4c98-d7b5-d7c33847b1aa"
      },
      "execution_count": 3,
      "outputs": [
        {
          "output_type": "stream",
          "name": "stdout",
          "text": [
            "Enter the string: 1234abcd\n",
            "The reverse string is dcba4321\n"
          ]
        }
      ]
    }
  ]
}