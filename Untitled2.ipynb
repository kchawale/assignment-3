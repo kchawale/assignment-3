{
  "nbformat": 4,
  "nbformat_minor": 0,
  "metadata": {
    "colab": {
      "provenance": [],
      "authorship_tag": "ABX9TyMBXnQNjMetBlY2qj3M62cb",
      "include_colab_link": true
    },
    "kernelspec": {
      "name": "python3",
      "display_name": "Python 3"
    },
    "language_info": {
      "name": "python"
    }
  },
  "cells": [
    {
      "cell_type": "markdown",
      "metadata": {
        "id": "view-in-github",
        "colab_type": "text"
      },
      "source": [
        "<a href=\"https://colab.research.google.com/github/kchawale/assignment-3/blob/main/Untitled2.ipynb\" target=\"_parent\"><img src=\"https://colab.research.google.com/assets/colab-badge.svg\" alt=\"Open In Colab\"/></a>"
      ]
    },
    {
      "cell_type": "code",
      "execution_count": 3,
      "metadata": {
        "colab": {
          "base_uri": "https://localhost:8080/"
        },
        "id": "Z2qV-dWM2h4e",
        "outputId": "eebcbd46-9b12-415a-f42b-245e5ec09f34"
      },
      "outputs": [
        {
          "output_type": "stream",
          "name": "stdout",
          "text": [
            "Original String :  The quick Brow Fox\n",
            "No. of Upper case characters :  3\n",
            "No. of Lower case Characters :  12\n"
          ]
        }
      ],
      "source": [
        "#Write a Python function that accepts a string and calculate the number of upper case letters and lower case letters.\n",
        "#Sample String : 'The quick Brow Fox'\n",
        "\n",
        "def sample_string(s):\n",
        "    d1={\"UPPER_CASE\":0, \"LOWER_CASE\":0}\n",
        "    for i in s:\n",
        "        if i.isupper():\n",
        "           d1[\"UPPER_CASE\"]+=1\n",
        "        elif i.islower():\n",
        "           d1[\"LOWER_CASE\"]+=1\n",
        "        else:\n",
        "           pass\n",
        "    print (\"Original String : \", s)\n",
        "    print (\"No. of Upper case characters : \", d1[\"UPPER_CASE\"])\n",
        "    print (\"No. of Lower case Characters : \", d1[\"LOWER_CASE\"])\n",
        "sample_string('The quick Brow Fox')"
      ]
    },
    {
      "cell_type": "code",
      "source": [
        "#Write a Python function that accepts a string and calculate the number of upper case letters and lower case letters.\n",
        "#Sample String : 'The quick Brow Fox'\n",
        "\n",
        "def up_low(s):      \n",
        "    u = sum(1 for i in s if i.isupper())\n",
        "    l = sum(1 for i in s if i.islower())\n",
        "    print( \"No. of Upper case characters : %s\" %(u))\n",
        "    print(\"No. of Lower case characters : %s\" %(l))\n",
        "\n",
        "up_low(\"The quick Brow Fox\")"
      ],
      "metadata": {
        "colab": {
          "base_uri": "https://localhost:8080/"
        },
        "id": "DcEE8Bgq3obu",
        "outputId": "6c60ae2c-1faf-4fbf-add4-da992e29cb08"
      },
      "execution_count": 12,
      "outputs": [
        {
          "output_type": "stream",
          "name": "stdout",
          "text": [
            "No. of Upper case characters : 3\n",
            "No. of Lower case characters : 12\n"
          ]
        }
      ]
    }
  ]
}